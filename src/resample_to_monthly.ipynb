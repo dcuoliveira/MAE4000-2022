{
 "cells": [
  {
   "cell_type": "code",
   "execution_count": 1,
   "id": "70010e4c-221b-48f7-9dcc-d6cbbf898268",
   "metadata": {},
   "outputs": [],
   "source": [
    "import pandas as pd"
   ]
  },
  {
   "cell_type": "code",
   "execution_count": 29,
   "id": "5440d8be-bf6a-4806-9f72-847f3bd76ec4",
   "metadata": {},
   "outputs": [],
   "source": [
    "data = pd.read_csv(\"data/curva_juros_nominal_us.txt\", sep=\"\\t\")"
   ]
  },
  {
   "cell_type": "code",
   "execution_count": 30,
   "id": "ffdc2f3b-ba25-4856-b9ba-accecb3da592",
   "metadata": {},
   "outputs": [],
   "source": [
    "data['Dates'] = pd.to_datetime(data['Dates'])\n",
    "data.rename(columns={\"Dates\": \"date\"}, inplace=True)\n",
    "data = data.set_index(\"date\")\n",
    "\n",
    "monthly_data = data.resample(\"B\").mean().ffill().resample(\"M\").last().reset_index()\n",
    "monthly_data['date'] = [dtref.strftime(\"%Y-%m-%d\") for dtref in monthly_data['date']]"
   ]
  },
  {
   "cell_type": "code",
   "execution_count": 32,
   "id": "1034cecb-a78e-4a78-80b5-dbeff1089530",
   "metadata": {},
   "outputs": [],
   "source": [
    "monthly_data.to_csv(\"data/curva_juros_us_mensal.csv\",\n",
    "                    sep=\",\",\n",
    "                    index=False)"
   ]
  },
  {
   "cell_type": "code",
   "execution_count": 33,
   "id": "360a2175-157a-4b9c-b696-12bfca9ccef7",
   "metadata": {},
   "outputs": [
    {
     "data": {
      "text/html": [
       "<div>\n",
       "<style scoped>\n",
       "    .dataframe tbody tr th:only-of-type {\n",
       "        vertical-align: middle;\n",
       "    }\n",
       "\n",
       "    .dataframe tbody tr th {\n",
       "        vertical-align: top;\n",
       "    }\n",
       "\n",
       "    .dataframe thead th {\n",
       "        text-align: right;\n",
       "    }\n",
       "</style>\n",
       "<table border=\"1\" class=\"dataframe\">\n",
       "  <thead>\n",
       "    <tr style=\"text-align: right;\">\n",
       "      <th></th>\n",
       "      <th>date</th>\n",
       "      <th>USGG2YR Index</th>\n",
       "      <th>USGG5YR Index</th>\n",
       "      <th>USGG10YR Index</th>\n",
       "      <th>USGG30YR Index</th>\n",
       "    </tr>\n",
       "  </thead>\n",
       "  <tbody>\n",
       "    <tr>\n",
       "      <th>621</th>\n",
       "      <td>2022-02-28</td>\n",
       "      <td>1.4323</td>\n",
       "      <td>1.7177</td>\n",
       "      <td>1.8250</td>\n",
       "      <td>2.1611</td>\n",
       "    </tr>\n",
       "    <tr>\n",
       "      <th>622</th>\n",
       "      <td>2022-03-31</td>\n",
       "      <td>2.3345</td>\n",
       "      <td>2.4599</td>\n",
       "      <td>2.3380</td>\n",
       "      <td>2.4476</td>\n",
       "    </tr>\n",
       "    <tr>\n",
       "      <th>623</th>\n",
       "      <td>2022-04-30</td>\n",
       "      <td>2.7146</td>\n",
       "      <td>2.9549</td>\n",
       "      <td>2.9336</td>\n",
       "      <td>2.9972</td>\n",
       "    </tr>\n",
       "    <tr>\n",
       "      <th>624</th>\n",
       "      <td>2022-05-31</td>\n",
       "      <td>2.5565</td>\n",
       "      <td>2.8173</td>\n",
       "      <td>2.8441</td>\n",
       "      <td>3.0451</td>\n",
       "    </tr>\n",
       "    <tr>\n",
       "      <th>625</th>\n",
       "      <td>2022-06-30</td>\n",
       "      <td>2.6296</td>\n",
       "      <td>2.9094</td>\n",
       "      <td>2.9095</td>\n",
       "      <td>3.0763</td>\n",
       "    </tr>\n",
       "  </tbody>\n",
       "</table>\n",
       "</div>"
      ],
      "text/plain": [
       "           date  USGG2YR Index  USGG5YR Index  USGG10YR Index  USGG30YR Index\n",
       "621  2022-02-28         1.4323         1.7177          1.8250          2.1611\n",
       "622  2022-03-31         2.3345         2.4599          2.3380          2.4476\n",
       "623  2022-04-30         2.7146         2.9549          2.9336          2.9972\n",
       "624  2022-05-31         2.5565         2.8173          2.8441          3.0451\n",
       "625  2022-06-30         2.6296         2.9094          2.9095          3.0763"
      ]
     },
     "execution_count": 33,
     "metadata": {},
     "output_type": "execute_result"
    }
   ],
   "source": [
    "teste = pd.read_csv(\"data/curva_juros_us_mensal.csv\", sep=\",\")\n",
    "teste.tail()"
   ]
  },
  {
   "cell_type": "code",
   "execution_count": null,
   "id": "c4e9973d-4f02-4d8f-acf7-caa13c78f696",
   "metadata": {},
   "outputs": [],
   "source": []
  }
 ],
 "metadata": {
  "kernelspec": {
   "display_name": "Python 3",
   "language": "python",
   "name": "python3"
  },
  "language_info": {
   "codemirror_mode": {
    "name": "ipython",
    "version": 3
   },
   "file_extension": ".py",
   "mimetype": "text/x-python",
   "name": "python",
   "nbconvert_exporter": "python",
   "pygments_lexer": "ipython3",
   "version": "3.6.10"
  }
 },
 "nbformat": 4,
 "nbformat_minor": 5
}
